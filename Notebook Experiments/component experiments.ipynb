{
 "cells": [
  {
   "metadata": {
    "ExecuteTime": {
     "end_time": "2024-07-07T14:52:42.851755Z",
     "start_time": "2024-07-07T14:52:42.826204Z"
    }
   },
   "cell_type": "code",
   "source": [
    "import pandas as pd\n",
    "from pymongo import MongoClient\n",
    "from VisaPrediction import constants\n",
    "from dotenv import load_dotenv\n",
    "import os\n",
    "\n",
    "load_dotenv()"
   ],
   "id": "2df0ec12bf5973c0",
   "outputs": [
    {
     "data": {
      "text/plain": [
       "True"
      ]
     },
     "execution_count": 4,
     "metadata": {},
     "output_type": "execute_result"
    }
   ],
   "execution_count": 4
  },
  {
   "metadata": {
    "ExecuteTime": {
     "end_time": "2024-07-07T14:52:43.970114Z",
     "start_time": "2024-07-07T14:52:43.966976Z"
    }
   },
   "cell_type": "code",
   "source": "from VisaPrediction import constants",
   "id": "251789932cbf3f89",
   "outputs": [],
   "execution_count": 5
  },
  {
   "metadata": {
    "ExecuteTime": {
     "end_time": "2024-07-07T14:53:03.183539Z",
     "start_time": "2024-07-07T14:53:03.071890Z"
    }
   },
   "cell_type": "code",
   "source": [
    "URI = os.getenv('MONGODB_URI')\n",
    "CSV_DATASET_URL = os.getenv('DATASET_GIT_URL')\n",
    "client =MongoClient(URI)\n",
    "client"
   ],
   "id": "initial_id",
   "outputs": [
    {
     "data": {
      "text/plain": [
       "MongoClient(host=['ac-vrsbqc0-shard-00-01.02i1l78.mongodb.net:27017', 'ac-vrsbqc0-shard-00-02.02i1l78.mongodb.net:27017', 'ac-vrsbqc0-shard-00-00.02i1l78.mongodb.net:27017'], document_class=dict, tz_aware=False, connect=True, appname='Cluster0', authsource='admin', replicaset='atlas-77us37-shard-0', tls=True)"
      ]
     },
     "execution_count": 7,
     "metadata": {},
     "output_type": "execute_result"
    }
   ],
   "execution_count": 7
  },
  {
   "metadata": {
    "ExecuteTime": {
     "end_time": "2024-07-06T14:13:45.613060Z",
     "start_time": "2024-07-06T14:13:45.412623Z"
    }
   },
   "cell_type": "code",
   "source": [
    "data_uri = pd.read_csv(CSV_DATASET_URL)\n",
    "\n",
    "df = pd.read_csv(data_uri)\n",
    "df.head(5)"
   ],
   "id": "b4dd68fb52cf3e9f",
   "outputs": [
    {
     "data": {
      "text/plain": [
       "  case_id continent education_of_employee has_job_experience  \\\n",
       "0  EZYV01      Asia           High School                  N   \n",
       "1  EZYV02      Asia              Master's                  Y   \n",
       "2  EZYV03      Asia            Bachelor's                  N   \n",
       "3  EZYV04      Asia            Bachelor's                  N   \n",
       "4  EZYV05    Africa              Master's                  Y   \n",
       "\n",
       "  requires_job_training  no_of_employees  yr_of_estab region_of_employment  \\\n",
       "0                     N            14513         2007                 West   \n",
       "1                     N             2412         2002            Northeast   \n",
       "2                     Y            44444         2008                 West   \n",
       "3                     N               98         1897                 West   \n",
       "4                     N             1082         2005                South   \n",
       "\n",
       "   prevailing_wage unit_of_wage full_time_position case_status  \n",
       "0         592.2029         Hour                  Y      Denied  \n",
       "1       83425.6500         Year                  Y   Certified  \n",
       "2      122996.8600         Year                  Y      Denied  \n",
       "3       83434.0300         Year                  Y      Denied  \n",
       "4      149907.3900         Year                  Y   Certified  "
      ],
      "text/html": [
       "<div>\n",
       "<style scoped>\n",
       "    .dataframe tbody tr th:only-of-type {\n",
       "        vertical-align: middle;\n",
       "    }\n",
       "\n",
       "    .dataframe tbody tr th {\n",
       "        vertical-align: top;\n",
       "    }\n",
       "\n",
       "    .dataframe thead th {\n",
       "        text-align: right;\n",
       "    }\n",
       "</style>\n",
       "<table border=\"1\" class=\"dataframe\">\n",
       "  <thead>\n",
       "    <tr style=\"text-align: right;\">\n",
       "      <th></th>\n",
       "      <th>case_id</th>\n",
       "      <th>continent</th>\n",
       "      <th>education_of_employee</th>\n",
       "      <th>has_job_experience</th>\n",
       "      <th>requires_job_training</th>\n",
       "      <th>no_of_employees</th>\n",
       "      <th>yr_of_estab</th>\n",
       "      <th>region_of_employment</th>\n",
       "      <th>prevailing_wage</th>\n",
       "      <th>unit_of_wage</th>\n",
       "      <th>full_time_position</th>\n",
       "      <th>case_status</th>\n",
       "    </tr>\n",
       "  </thead>\n",
       "  <tbody>\n",
       "    <tr>\n",
       "      <th>0</th>\n",
       "      <td>EZYV01</td>\n",
       "      <td>Asia</td>\n",
       "      <td>High School</td>\n",
       "      <td>N</td>\n",
       "      <td>N</td>\n",
       "      <td>14513</td>\n",
       "      <td>2007</td>\n",
       "      <td>West</td>\n",
       "      <td>592.2029</td>\n",
       "      <td>Hour</td>\n",
       "      <td>Y</td>\n",
       "      <td>Denied</td>\n",
       "    </tr>\n",
       "    <tr>\n",
       "      <th>1</th>\n",
       "      <td>EZYV02</td>\n",
       "      <td>Asia</td>\n",
       "      <td>Master's</td>\n",
       "      <td>Y</td>\n",
       "      <td>N</td>\n",
       "      <td>2412</td>\n",
       "      <td>2002</td>\n",
       "      <td>Northeast</td>\n",
       "      <td>83425.6500</td>\n",
       "      <td>Year</td>\n",
       "      <td>Y</td>\n",
       "      <td>Certified</td>\n",
       "    </tr>\n",
       "    <tr>\n",
       "      <th>2</th>\n",
       "      <td>EZYV03</td>\n",
       "      <td>Asia</td>\n",
       "      <td>Bachelor's</td>\n",
       "      <td>N</td>\n",
       "      <td>Y</td>\n",
       "      <td>44444</td>\n",
       "      <td>2008</td>\n",
       "      <td>West</td>\n",
       "      <td>122996.8600</td>\n",
       "      <td>Year</td>\n",
       "      <td>Y</td>\n",
       "      <td>Denied</td>\n",
       "    </tr>\n",
       "    <tr>\n",
       "      <th>3</th>\n",
       "      <td>EZYV04</td>\n",
       "      <td>Asia</td>\n",
       "      <td>Bachelor's</td>\n",
       "      <td>N</td>\n",
       "      <td>N</td>\n",
       "      <td>98</td>\n",
       "      <td>1897</td>\n",
       "      <td>West</td>\n",
       "      <td>83434.0300</td>\n",
       "      <td>Year</td>\n",
       "      <td>Y</td>\n",
       "      <td>Denied</td>\n",
       "    </tr>\n",
       "    <tr>\n",
       "      <th>4</th>\n",
       "      <td>EZYV05</td>\n",
       "      <td>Africa</td>\n",
       "      <td>Master's</td>\n",
       "      <td>Y</td>\n",
       "      <td>N</td>\n",
       "      <td>1082</td>\n",
       "      <td>2005</td>\n",
       "      <td>South</td>\n",
       "      <td>149907.3900</td>\n",
       "      <td>Year</td>\n",
       "      <td>Y</td>\n",
       "      <td>Certified</td>\n",
       "    </tr>\n",
       "  </tbody>\n",
       "</table>\n",
       "</div>"
      ]
     },
     "execution_count": 8,
     "metadata": {},
     "output_type": "execute_result"
    }
   ],
   "execution_count": 8
  },
  {
   "metadata": {
    "ExecuteTime": {
     "end_time": "2024-07-06T14:14:14.110978Z",
     "start_time": "2024-07-06T14:14:14.097628Z"
    }
   },
   "cell_type": "code",
   "source": "df.columns",
   "id": "836f65216afb9f61",
   "outputs": [
    {
     "data": {
      "text/plain": [
       "Index(['case_id', 'continent', 'education_of_employee', 'has_job_experience',\n",
       "       'requires_job_training', 'no_of_employees', 'yr_of_estab',\n",
       "       'region_of_employment', 'prevailing_wage', 'unit_of_wage',\n",
       "       'full_time_position', 'case_status'],\n",
       "      dtype='object')"
      ]
     },
     "execution_count": 9,
     "metadata": {},
     "output_type": "execute_result"
    }
   ],
   "execution_count": 9
  },
  {
   "metadata": {
    "ExecuteTime": {
     "end_time": "2024-07-06T14:14:19.503696Z",
     "start_time": "2024-07-06T14:14:19.481550Z"
    }
   },
   "cell_type": "code",
   "source": "df.isna().sum()",
   "id": "5ba1f4dc76c7c6bb",
   "outputs": [
    {
     "data": {
      "text/plain": [
       "case_id                  0\n",
       "continent                0\n",
       "education_of_employee    0\n",
       "has_job_experience       0\n",
       "requires_job_training    0\n",
       "no_of_employees          0\n",
       "yr_of_estab              0\n",
       "region_of_employment     0\n",
       "prevailing_wage          0\n",
       "unit_of_wage             0\n",
       "full_time_position       0\n",
       "case_status              0\n",
       "dtype: int64"
      ]
     },
     "execution_count": 10,
     "metadata": {},
     "output_type": "execute_result"
    }
   ],
   "execution_count": 10
  },
  {
   "metadata": {
    "ExecuteTime": {
     "end_time": "2024-07-06T14:14:34.258030Z",
     "start_time": "2024-07-06T14:14:34.221439Z"
    }
   },
   "cell_type": "code",
   "source": "df.duplicated().sum()",
   "id": "430a49012ecbdabb",
   "outputs": [
    {
     "data": {
      "text/plain": [
       "0"
      ]
     },
     "execution_count": 11,
     "metadata": {},
     "output_type": "execute_result"
    }
   ],
   "execution_count": 11
  },
  {
   "metadata": {
    "ExecuteTime": {
     "end_time": "2024-07-06T14:15:52.054611Z",
     "start_time": "2024-07-06T14:15:52.048276Z"
    }
   },
   "cell_type": "code",
   "source": "df.shape",
   "id": "85d4a4aecccaa6e7",
   "outputs": [
    {
     "data": {
      "text/plain": [
       "(25480, 12)"
      ]
     },
     "execution_count": 15,
     "metadata": {},
     "output_type": "execute_result"
    }
   ],
   "execution_count": 15
  },
  {
   "metadata": {
    "ExecuteTime": {
     "end_time": "2024-07-06T14:15:26.766275Z",
     "start_time": "2024-07-06T14:15:26.617617Z"
    }
   },
   "cell_type": "code",
   "source": [
    "data = df.to_dict(orient='records')\n",
    "data[0]"
   ],
   "id": "a35bee56152a4540",
   "outputs": [
    {
     "data": {
      "text/plain": [
       "{'case_id': 'EZYV01',\n",
       " 'continent': 'Asia',\n",
       " 'education_of_employee': 'High School',\n",
       " 'has_job_experience': 'N',\n",
       " 'requires_job_training': 'N',\n",
       " 'no_of_employees': 14513,\n",
       " 'yr_of_estab': 2007,\n",
       " 'region_of_employment': 'West',\n",
       " 'prevailing_wage': 592.2029,\n",
       " 'unit_of_wage': 'Hour',\n",
       " 'full_time_position': 'Y',\n",
       " 'case_status': 'Denied'}"
      ]
     },
     "execution_count": 13,
     "metadata": {},
     "output_type": "execute_result"
    }
   ],
   "execution_count": 13
  },
  {
   "metadata": {
    "ExecuteTime": {
     "end_time": "2024-07-06T14:15:46.239104Z",
     "start_time": "2024-07-06T14:15:46.232201Z"
    }
   },
   "cell_type": "code",
   "source": "len(data)",
   "id": "138e78b8f846be69",
   "outputs": [
    {
     "data": {
      "text/plain": [
       "25480"
      ]
     },
     "execution_count": 14,
     "metadata": {},
     "output_type": "execute_result"
    }
   ],
   "execution_count": 14
  },
  {
   "metadata": {
    "ExecuteTime": {
     "end_time": "2024-07-06T14:19:54.262737Z",
     "start_time": "2024-07-06T14:19:54.257104Z"
    }
   },
   "cell_type": "code",
   "source": [
    "DATABASE_NAME = client[constants.DATABASE_NAME]\n",
    "COLLECTION = DATABASE_NAME[constants.COLLECTION_NAME]"
   ],
   "id": "b053ee21593a3cba",
   "outputs": [],
   "execution_count": 20
  },
  {
   "metadata": {
    "ExecuteTime": {
     "end_time": "2024-07-06T14:20:28.241756Z",
     "start_time": "2024-07-06T14:20:10.400091Z"
    }
   },
   "cell_type": "code",
   "source": "records = COLLECTION.insert_many(data)",
   "id": "4333975a3a919061",
   "outputs": [],
   "execution_count": 21
  },
  {
   "metadata": {
    "ExecuteTime": {
     "end_time": "2024-07-06T14:21:15.675311Z",
     "start_time": "2024-07-06T14:21:15.668328Z"
    }
   },
   "cell_type": "code",
   "source": [
    "records_data = COLLECTION.find()\n",
    "records_data"
   ],
   "id": "f92cd79ee5035ddc",
   "outputs": [
    {
     "data": {
      "text/plain": [
       "<pymongo.cursor.Cursor at 0x1274df130>"
      ]
     },
     "execution_count": 23,
     "metadata": {},
     "output_type": "execute_result"
    }
   ],
   "execution_count": 23
  },
  {
   "metadata": {
    "ExecuteTime": {
     "end_time": "2024-07-06T14:25:16.360426Z",
     "start_time": "2024-07-06T14:22:14.321324Z"
    }
   },
   "cell_type": "code",
   "source": [
    "for i, j in enumerate(records_data):\n",
    "    print(i,j)"
   ],
   "id": "ac91efa825062821",
   "outputs": [
    {
     "name": "stdout",
     "output_type": "stream",
     "text": [
      "0 {'_id': ObjectId('6689529a7451191a3e0b00fc'), 'case_id': 'EZYV02', 'continent': 'Asia', 'education_of_employee': \"Master's\", 'has_job_experience': 'Y', 'requires_job_training': 'N', 'no_of_employees': 2412, 'yr_of_estab': 2002, 'region_of_employment': 'Northeast', 'prevailing_wage': 83425.65, 'unit_of_wage': 'Year', 'full_time_position': 'Y', 'case_status': 'Certified'}\n",
      "1 {'_id': ObjectId('6689529a7451191a3e0b00fd'), 'case_id': 'EZYV03', 'continent': 'Asia', 'education_of_employee': \"Bachelor's\", 'has_job_experience': 'N', 'requires_job_training': 'Y', 'no_of_employees': 44444, 'yr_of_estab': 2008, 'region_of_employment': 'West', 'prevailing_wage': 122996.86, 'unit_of_wage': 'Year', 'full_time_position': 'Y', 'case_status': 'Denied'}\n",
      "2 {'_id': ObjectId('6689529a7451191a3e0b00fe'), 'case_id': 'EZYV04', 'continent': 'Asia', 'education_of_employee': \"Bachelor's\", 'has_job_experience': 'N', 'requires_job_training': 'N', 'no_of_employees': 98, 'yr_of_estab': 1897, 'region_of_employment': 'West', 'prevailing_wage': 83434.03, 'unit_of_wage': 'Year', 'full_time_position': 'Y', 'case_status': 'Denied'}\n",
      "3 {'_id': ObjectId('6689529a7451191a3e0b00ff'), 'case_id': 'EZYV05', 'continent': 'Africa', 'education_of_employee': \"Master's\", 'has_job_experience': 'Y', 'requires_job_training': 'N', 'no_of_employees': 1082, 'yr_of_estab': 2005, 'region_of_employment': 'South', 'prevailing_wage': 149907.39, 'unit_of_wage': 'Year', 'full_time_position': 'Y', 'case_status': 'Certified'}\n",
      "4 {'_id': ObjectId('6689529a7451191a3e0b0100'), 'case_id': 'EZYV06', 'continent': 'Asia', 'education_of_employee': \"Master's\", 'has_job_experience': 'Y', 'requires_job_training': 'N', 'no_of_employees': 2339, 'yr_of_estab': 2012, 'region_of_employment': 'South', 'prevailing_wage': 78252.14, 'unit_of_wage': 'Year', 'full_time_position': 'Y', 'case_status': 'Certified'}\n",
      "5 {'_id': ObjectId('6689529a7451191a3e0b0101'), 'case_id': 'EZYV07', 'continent': 'Asia', 'education_of_employee': \"Bachelor's\", 'has_job_experience': 'N', 'requires_job_training': 'N', 'no_of_employees': 4985, 'yr_of_estab': 1994, 'region_of_employment': 'South', 'prevailing_wage': 53635.39, 'unit_of_wage': 'Year', 'full_time_position': 'Y', 'case_status': 'Certified'}\n",
      "6 {'_id': ObjectId('6689529a7451191a3e0b0102'), 'case_id': 'EZYV08', 'continent': 'North America', 'education_of_employee': \"Bachelor's\", 'has_job_experience': 'Y', 'requires_job_training': 'N', 'no_of_employees': 3035, 'yr_of_estab': 1924, 'region_of_employment': 'West', 'prevailing_wage': 418.2298, 'unit_of_wage': 'Hour', 'full_time_position': 'Y', 'case_status': 'Denied'}\n",
      "7 {'_id': ObjectId('6689529a7451191a3e0b0103'), 'case_id': 'EZYV09', 'continent': 'Asia', 'education_of_employee': \"Bachelor's\", 'has_job_experience': 'N', 'requires_job_training': 'N', 'no_of_employees': 4810, 'yr_of_estab': 2012, 'region_of_employment': 'Midwest', 'prevailing_wage': 74362.19, 'unit_of_wage': 'Year', 'full_time_position': 'Y', 'case_status': 'Certified'}\n",
      "8 {'_id': ObjectId('6689529a7451191a3e0b0104'), 'case_id': 'EZYV10', 'continent': 'Europe', 'education_of_employee': 'Doctorate', 'has_job_experience': 'Y', 'requires_job_training': 'N', 'no_of_employees': 2251, 'yr_of_estab': 1995, 'region_of_employment': 'South', 'prevailing_wage': 67514.76, 'unit_of_wage': 'Year', 'full_time_position': 'Y', 'case_status': 'Certified'}\n",
      "9 {'_id': ObjectId('6689529a7451191a3e0b0105'), 'case_id': 'EZYV11', 'continent': 'Asia', 'education_of_employee': \"Master's\", 'has_job_experience': 'N', 'requires_job_training': 'N', 'no_of_employees': 2465, 'yr_of_estab': 2004, 'region_of_employment': 'Midwest', 'prevailing_wage': 83588.56, 'unit_of_wage': 'Year', 'full_time_position': 'Y', 'case_status': 'Certified'}\n",
      "10 {'_id': ObjectId('6689529a7451191a3e0b0106'), 'case_id': 'EZYV12', 'continent': 'Asia', 'education_of_employee': 'High School', 'has_job_experience': 'Y', 'requires_job_training': 'N', 'no_of_employees': 4069, 'yr_of_estab': 2005, 'region_of_employment': 'Northeast', 'prevailing_wage': 70813.09, 'unit_of_wage': 'Year', 'full_time_position': 'Y', 'case_status': 'Denied'}\n",
      "11 {'_id': ObjectId('6689529a7451191a3e0b0107'), 'case_id': 'EZYV13', 'continent': 'Asia', 'education_of_employee': \"Bachelor's\", 'has_job_experience': 'Y', 'requires_job_training': 'N', 'no_of_employees': 123876, 'yr_of_estab': 1963, 'region_of_employment': 'Northeast', 'prevailing_wage': 28663.05, 'unit_of_wage': 'Year', 'full_time_position': 'Y', 'case_status': 'Certified'}\n",
      "12 {'_id': ObjectId('6689529a7451191a3e0b0108'), 'case_id': 'EZYV14', 'continent': 'Asia', 'education_of_employee': \"Bachelor's\", 'has_job_experience': 'Y', 'requires_job_training': 'N', 'no_of_employees': 1652, 'yr_of_estab': 2007, 'region_of_employment': 'Midwest', 'prevailing_wage': 107196.03, 'unit_of_wage': 'Year', 'full_time_position': 'Y', 'case_status': 'Certified'}\n",
      "13 {'_id': ObjectId('6689529a7451191a3e0b0109'), 'case_id': 'EZYV15', 'continent': 'Asia', 'education_of_employee': \"Master's\", 'has_job_experience': 'Y', 'requires_job_training': 'Y', 'no_of_employees': 15756, 'yr_of_estab': 2006, 'region_of_employment': 'South', 'prevailing_wage': 220081.73, 'unit_of_wage': 'Year', 'full_time_position': 'Y', 'case_status': 'Certified'}\n",
      "14 {'_id': ObjectId('6689529a7451191a3e0b010a'), 'case_id': 'EZYV16', 'continent': 'Asia', 'education_of_employee': 'High School', 'has_job_experience': 'Y', 'requires_job_training': 'N', 'no_of_employees': 4897, 'yr_of_estab': 1987, 'region_of_employment': 'West', 'prevailing_wage': 74108.02, 'unit_of_wage': 'Year', 'full_time_position': 'Y', 'case_status': 'Denied'}\n",
      "15 {'_id': ObjectId('6689529a7451191a3e0b010b'), 'case_id': 'EZYV17', 'continent': 'Europe', 'education_of_employee': \"Master's\", 'has_job_experience': 'Y', 'requires_job_training': 'N', 'no_of_employees': 76638, 'yr_of_estab': 1991, 'region_of_employment': 'Midwest', 'prevailing_wage': 3706.79, 'unit_of_wage': 'Year', 'full_time_position': 'Y', 'case_status': 'Certified'}\n",
      "16 {'_id': ObjectId('6689529a7451191a3e0b010c'), 'case_id': 'EZYV18', 'continent': 'Asia', 'education_of_employee': \"Master's\", 'has_job_experience': 'Y', 'requires_job_training': 'N', 'no_of_employees': 2747, 'yr_of_estab': 2001, 'region_of_employment': 'West', 'prevailing_wage': 16132.61, 'unit_of_wage': 'Year', 'full_time_position': 'Y', 'case_status': 'Certified'}\n",
      "17 {'_id': ObjectId('6689529a7451191a3e0b010d'), 'case_id': 'EZYV19', 'continent': 'Africa', 'education_of_employee': \"Master's\", 'has_job_experience': 'Y', 'requires_job_training': 'N', 'no_of_employees': 4743, 'yr_of_estab': 2004, 'region_of_employment': 'Midwest', 'prevailing_wage': 150441.13, 'unit_of_wage': 'Year', 'full_time_position': 'Y', 'case_status': 'Certified'}\n",
      "18 {'_id': ObjectId('6689529a7451191a3e0b010e'), 'case_id': 'EZYV20', 'continent': 'Asia', 'education_of_employee': 'Doctorate', 'has_job_experience': 'N', 'requires_job_training': 'N', 'no_of_employees': 843, 'yr_of_estab': 1972, 'region_of_employment': 'Midwest', 'prevailing_wage': 79948.12, 'unit_of_wage': 'Year', 'full_time_position': 'Y', 'case_status': 'Certified'}\n",
      "19 {'_id': ObjectId('6689529a7451191a3e0b010f'), 'case_id': 'EZYV21', 'continent': 'Asia', 'education_of_employee': \"Master's\", 'has_job_experience': 'N', 'requires_job_training': 'N', 'no_of_employees': 880, 'yr_of_estab': 2008, 'region_of_employment': 'West', 'prevailing_wage': 71128.98, 'unit_of_wage': 'Year', 'full_time_position': 'Y', 'case_status': 'Denied'}\n",
      "20 {'_id': ObjectId('6689529a7451191a3e0b0110'), 'case_id': 'EZYV22', 'continent': 'North America', 'education_of_employee': \"Master's\", 'has_job_experience': 'Y', 'requires_job_training': 'N', 'no_of_employees': 1706, 'yr_of_estab': 2013, 'region_of_employment': 'Midwest', 'prevailing_wage': 137694.98, 'unit_of_wage': 'Year', 'full_time_position': 'N', 'case_status': 'Certified'}\n",
      "21 {'_id': ObjectId('6689529a7451191a3e0b0111'), 'case_id': 'EZYV23', 'continent': 'Asia', 'education_of_employee': \"Master's\", 'has_job_experience': 'Y', 'requires_job_training': 'N', 'no_of_employees': 2878, 'yr_of_estab': 1968, 'region_of_employment': 'West', 'prevailing_wage': 45642.39, 'unit_of_wage': 'Year', 'full_time_position': 'Y', 'case_status': 'Certified'}\n",
      "22 {'_id': ObjectId('6689529a7451191a3e0b0112'), 'case_id': 'EZYV24', 'continent': 'North America', 'education_of_employee': 'High School', 'has_job_experience': 'N', 'requires_job_training': 'N', 'no_of_employees': 1517, 'yr_of_estab': 1884, 'region_of_employment': 'Midwest', 'prevailing_wage': 90108.38, 'unit_of_wage': 'Year', 'full_time_position': 'N', 'case_status': 'Certified'}\n",
      "23 {'_id': ObjectId('6689529a7451191a3e0b0113'), 'case_id': 'EZYV25', 'continent': 'Europe', 'education_of_employee': 'Doctorate', 'has_job_experience': 'Y', 'requires_job_training': 'N', 'no_of_employees': 241, 'yr_of_estab': 1981, 'region_of_employment': 'Midwest', 'prevailing_wage': 71286.04, 'unit_of_wage': 'Year', 'full_time_position': 'Y', 'case_status': 'Certified'}\n",
      "24 {'_id': ObjectId('6689529a7451191a3e0b0114'), 'case_id': 'EZYV26', 'continent': 'North America', 'education_of_employee': \"Master's\", 'has_job_experience': 'N', 'requires_job_training': 'N', 'no_of_employees': 1100, 'yr_of_estab': 1997, 'region_of_employment': 'Midwest', 'prevailing_wage': 99489.65, 'unit_of_wage': 'Year', 'full_time_position': 'Y', 'case_status': 'Certified'}\n",
      "25 {'_id': ObjectId('6689529a7451191a3e0b0115'), 'case_id': 'EZYV27', 'continent': 'Asia', 'education_of_employee': \"Bachelor's\", 'has_job_experience': 'Y', 'requires_job_training': 'N', 'no_of_employees': 756, 'yr_of_estab': 1995, 'region_of_employment': 'South', 'prevailing_wage': 86332.95, 'unit_of_wage': 'Year', 'full_time_position': 'Y', 'case_status': 'Certified'}\n",
      "26 {'_id': ObjectId('6689529a7451191a3e0b0116'), 'case_id': 'EZYV28', 'continent': 'Asia', 'education_of_employee': 'High School', 'has_job_experience': 'Y', 'requires_job_training': 'Y', 'no_of_employees': 2889, 'yr_of_estab': 2005, 'region_of_employment': 'South', 'prevailing_wage': 103029.33, 'unit_of_wage': 'Year', 'full_time_position': 'Y', 'case_status': 'Certified'}\n",
      "27 {'_id': ObjectId('6689529a7451191a3e0b0117'), 'case_id': 'EZYV29', 'continent': 'Asia', 'education_of_employee': \"Master's\", 'has_job_experience': 'Y', 'requires_job_training': 'N', 'no_of_employees': 18, 'yr_of_estab': 2004, 'region_of_employment': 'Northeast', 'prevailing_wage': 40925.86, 'unit_of_wage': 'Year', 'full_time_position': 'Y', 'case_status': 'Certified'}\n",
      "28 {'_id': ObjectId('6689529a7451191a3e0b0118'), 'case_id': 'EZYV30', 'continent': 'Asia', 'education_of_employee': \"Bachelor's\", 'has_job_experience': 'Y', 'requires_job_training': 'N', 'no_of_employees': 758, 'yr_of_estab': 2009, 'region_of_employment': 'Northeast', 'prevailing_wage': 189190.48, 'unit_of_wage': 'Year', 'full_time_position': 'Y', 'case_status': 'Certified'}\n",
      "29 {'_id': ObjectId('6689529a7451191a3e0b0119'), 'case_id': 'EZYV31', 'continent': 'Asia', 'education_of_employee': \"Master's\", 'has_job_experience': 'Y', 'requires_job_training': 'N', 'no_of_employees': 1408, 'yr_of_estab': 1998, 'region_of_employment': 'Midwest', 'prevailing_wage': 79594.12, 'unit_of_wage': 'Year', 'full_time_position': 'N', 'case_status': 'Certified'}\n",
      "30 {'_id': ObjectId('6689529a7451191a3e0b011a'), 'case_id': 'EZYV32', 'continent': 'Asia', 'education_of_employee': 'Doctorate', 'has_job_experience': 'Y', 'requires_job_training': 'N', 'no_of_employees': 995, 'yr_of_estab': 1880, 'region_of_employment': 'South', 'prevailing_wage': 135866.13, 'unit_of_wage': 'Year', 'full_time_position': 'N', 'case_status': 'Certified'}\n",
      "31 {'_id': ObjectId('6689529a7451191a3e0b011b'), 'case_id': 'EZYV33', 'continent': 'Asia', 'education_of_employee': \"Bachelor's\", 'has_job_experience': 'N', 'requires_job_training': 'N', 'no_of_employees': 2415, 'yr_of_estab': 1963, 'region_of_employment': 'Midwest', 'prevailing_wage': 72077.57, 'unit_of_wage': 'Year', 'full_time_position': 'N', 'case_status': 'Certified'}\n",
      "32 {'_id': ObjectId('6689529a7451191a3e0b011c'), 'case_id': 'EZYV34', 'continent': 'Asia', 'education_of_employee': 'High School', 'has_job_experience': 'N', 'requires_job_training': 'N', 'no_of_employees': 2395, 'yr_of_estab': 2000, 'region_of_employment': 'South', 'prevailing_wage': 81921.18, 'unit_of_wage': 'Year', 'full_time_position': 'Y', 'case_status': 'Certified'}\n",
      "33 {'_id': ObjectId('6689529a7451191a3e0b011d'), 'case_id': 'EZYV35', 'continent': 'Asia', 'education_of_employee': \"Master's\", 'has_job_experience': 'N', 'requires_job_training': 'N', 'no_of_employees': 1809, 'yr_of_estab': 2010, 'region_of_employment': 'South', 'prevailing_wage': 225569.73, 'unit_of_wage': 'Year', 'full_time_position': 'N', 'case_status': 'Certified'}\n",
      "34 {'_id': ObjectId('6689529a7451191a3e0b011e'), 'case_id': 'EZYV36', 'continent': 'Asia', 'education_of_employee': 'High School', 'has_job_experience': 'Y', 'requires_job_training': 'N', 'no_of_employees': 5512, 'yr_of_estab': 2001, 'region_of_employment': 'Northeast', 'prevailing_wage': 92421.92, 'unit_of_wage': 'Year', 'full_time_position': 'Y', 'case_status': 'Denied'}\n",
      "35 {'_id': ObjectId('6689529a7451191a3e0b011f'), 'case_id': 'EZYV37', 'continent': 'Europe', 'education_of_employee': 'High School', 'has_job_experience': 'Y', 'requires_job_training': 'N', 'no_of_employees': 2520, 'yr_of_estab': 1981, 'region_of_employment': 'West', 'prevailing_wage': 2490.12, 'unit_of_wage': 'Year', 'full_time_position': 'Y', 'case_status': 'Denied'}\n",
      "36 {'_id': ObjectId('6689529a7451191a3e0b0120'), 'case_id': 'EZYV38', 'continent': 'Europe', 'education_of_employee': \"Master's\", 'has_job_experience': 'Y', 'requires_job_training': 'Y', 'no_of_employees': 44, 'yr_of_estab': 1965, 'region_of_employment': 'South', 'prevailing_wage': 110817.26, 'unit_of_wage': 'Year', 'full_time_position': 'Y', 'case_status': 'Certified'}\n",
      "37 {'_id': ObjectId('6689529a7451191a3e0b0121'), 'case_id': 'EZYV39', 'continent': 'Asia', 'education_of_employee': \"Bachelor's\", 'has_job_experience': 'Y', 'requires_job_training': 'Y', 'no_of_employees': 2206, 'yr_of_estab': 1909, 'region_of_employment': 'Northeast', 'prevailing_wage': 50960.01, 'unit_of_wage': 'Year', 'full_time_position': 'Y', 'case_status': 'Certified'}\n",
      "38 {'_id': ObjectId('6689529a7451191a3e0b0122'), 'case_id': 'EZYV40', 'continent': 'Asia', 'education_of_employee': \"Master's\", 'has_job_experience': 'N', 'requires_job_training': 'N', 'no_of_employees': 3729, 'yr_of_estab': 2007, 'region_of_employment': 'Midwest', 'prevailing_wage': 125336.9, 'unit_of_wage': 'Year', 'full_time_position': 'Y', 'case_status': 'Certified'}\n",
      "39 {'_id': ObjectId('6689529a7451191a3e0b0123'), 'case_id': 'EZYV41', 'continent': 'Asia', 'education_of_employee': \"Bachelor's\", 'has_job_experience': 'Y', 'requires_job_training': 'N', 'no_of_employees': 3723, 'yr_of_estab': 2011, 'region_of_employment': 'West', 'prevailing_wage': 39633.32, 'unit_of_wage': 'Year', 'full_time_position': 'Y', 'case_status': 'Certified'}\n",
      "40 {'_id': ObjectId('6689529a7451191a3e0b0124'), 'case_id': 'EZYV42', 'continent': 'Asia', 'education_of_employee': \"Master's\", 'has_job_experience': 'Y', 'requires_job_training': 'N', 'no_of_employees': 1209, 'yr_of_estab': 1989, 'region_of_employment': 'Northeast', 'prevailing_wage': 156326.33, 'unit_of_wage': 'Year', 'full_time_position': 'N', 'case_status': 'Certified'}\n",
      "41 {'_id': ObjectId('6689529a7451191a3e0b0125'), 'case_id': 'EZYV43', 'continent': 'Europe', 'education_of_employee': 'Doctorate', 'has_job_experience': 'Y', 'requires_job_training': 'N', 'no_of_employees': 19770, 'yr_of_estab': 2005, 'region_of_employment': 'West', 'prevailing_wage': 43630.58, 'unit_of_wage': 'Year', 'full_time_position': 'Y', 'case_status': 'Certified'}\n",
      "42 {'_id': ObjectId('6689529a7451191a3e0b0126'), 'case_id': 'EZYV44', 'continent': 'North America', 'education_of_employee': \"Master's\", 'has_job_experience': 'Y', 'requires_job_training': 'N', 'no_of_employees': 2582, 'yr_of_estab': 1989, 'region_of_employment': 'South', 'prevailing_wage': 54614.42, 'unit_of_wage': 'Year', 'full_time_position': 'Y', 'case_status': 'Certified'}\n",
      "43 {'_id': ObjectId('6689529a7451191a3e0b0127'), 'case_id': 'EZYV45', 'continent': 'Asia', 'education_of_employee': 'High School', 'has_job_experience': 'Y', 'requires_job_training': 'N', 'no_of_employees': 5407, 'yr_of_estab': 1998, 'region_of_employment': 'West', 'prevailing_wage': 28989.87, 'unit_of_wage': 'Year', 'full_time_position': 'Y', 'case_status': 'Denied'}\n",
      "44 {'_id': ObjectId('6689529a7451191a3e0b0128'), 'case_id': 'EZYV46', 'continent': 'Europe', 'education_of_employee': \"Bachelor's\", 'has_job_experience': 'N', 'requires_job_training': 'Y', 'no_of_employees': 2092, 'yr_of_estab': 1998, 'region_of_employment': 'South', 'prevailing_wage': 22924.91, 'unit_of_wage': 'Year', 'full_time_position': 'Y', 'case_status': 'Certified'}\n",
      "45 {'_id': ObjectId('6689529a7451191a3e0b0129'), 'case_id': 'EZYV47', 'continent': 'Asia', 'education_of_employee': \"Bachelor's\", 'has_job_experience': 'Y', 'requires_job_training': 'N', 'no_of_employees': 2623, 'yr_of_estab': 2008, 'region_of_employment': 'South', 'prevailing_wage': 61567.75, 'unit_of_wage': 'Year', 'full_time_position': 'Y', 'case_status': 'Certified'}\n",
      "46 {'_id': ObjectId('6689529a7451191a3e0b012a'), 'case_id': 'EZYV48', 'continent': 'Asia', 'education_of_employee': 'High School', 'has_job_experience': 'Y', 'requires_job_training': 'N', 'no_of_employees': 226, 'yr_of_estab': 1991, 'region_of_employment': 'Midwest', 'prevailing_wage': 156251.17, 'unit_of_wage': 'Year', 'full_time_position': 'Y', 'case_status': 'Certified'}\n",
      "47 {'_id': ObjectId('6689529a7451191a3e0b012b'), 'case_id': 'EZYV49', 'continent': 'Asia', 'education_of_employee': \"Bachelor's\", 'has_job_experience': 'Y', 'requires_job_training': 'N', 'no_of_employees': 2405, 'yr_of_estab': 1933, 'region_of_employment': 'South', 'prevailing_wage': 86022.02, 'unit_of_wage': 'Year', 'full_time_position': 'Y', 'case_status': 'Certified'}\n",
      "48 {'_id': ObjectId('6689529a7451191a3e0b012c'), 'case_id': 'EZYV50', 'continent': 'Asia', 'education_of_employee': 'Doctorate', 'has_job_experience': 'N', 'requires_job_training': 'Y', 'no_of_employees': 2171, 'yr_of_estab': 1960, 'region_of_employment': 'Northeast', 'prevailing_wage': 49565.37, 'unit_of_wage': 'Year', 'full_time_position': 'Y', 'case_status': 'Denied'}\n",
      "49 {'_id': ObjectId('6689529a7451191a3e0b012d'), 'case_id': 'EZYV51', 'continent': 'Asia', 'education_of_employee': \"Bachelor's\", 'has_job_experience': 'N', 'requires_job_training': 'N', 'no_of_employees': 746, 'yr_of_estab': 1991, 'region_of_employment': 'Midwest', 'prevailing_wage': 66191.41, 'unit_of_wage': 'Year', 'full_time_position': 'Y', 'case_status': 'Certified'}\n",
      "50 {'_id': ObjectId('6689529a7451191a3e0b012e'), 'case_id': 'EZYV52', 'continent': 'Asia', 'education_of_employee': \"Master's\", 'has_job_experience': 'Y', 'requires_job_training': 'N', 'no_of_employees': 3129, 'yr_of_estab': 2003, 'region_of_employment': 'Midwest', 'prevailing_wage': 95623.2, 'unit_of_wage': 'Year', 'full_time_position': 'N', 'case_status': 'Certified'}\n",
      "51 {'_id': ObjectId('6689529a7451191a3e0b012f'), 'case_id': 'EZYV53', 'continent': 'Asia', 'education_of_employee': \"Bachelor's\", 'has_job_experience': 'N', 'requires_job_training': 'N', 'no_of_employees': 1647, 'yr_of_estab': 1998, 'region_of_employment': 'Midwest', 'prevailing_wage': 115014.05, 'unit_of_wage': 'Year', 'full_time_position': 'Y', 'case_status': 'Certified'}\n",
      "52 {'_id': ObjectId('6689529a7451191a3e0b0130'), 'case_id': 'EZYV54', 'continent': 'Asia', 'education_of_employee': 'High School', 'has_job_experience': 'Y', 'requires_job_training': 'N', 'no_of_employees': 2438, 'yr_of_estab': 1976, 'region_of_employment': 'Midwest', 'prevailing_wage': 35018.04, 'unit_of_wage': 'Year', 'full_time_position': 'Y', 'case_status': 'Certified'}\n",
      "53 {'_id': ObjectId('6689529a7451191a3e0b0131'), 'case_id': 'EZYV55', 'continent': 'Asia', 'education_of_employee': \"Master's\", 'has_job_experience': 'Y', 'requires_job_training': 'N', 'no_of_employees': 11733, 'yr_of_estab': 1995, 'region_of_employment': 'Northeast', 'prevailing_wage': 230.8072, 'unit_of_wage': 'Hour', 'full_time_position': 'Y', 'case_status': 'Certified'}\n",
      "54 {'_id': ObjectId('6689529a7451191a3e0b0132'), 'case_id': 'EZYV56', 'continent': 'Asia', 'education_of_employee': \"Master's\", 'has_job_experience': 'Y', 'requires_job_training': 'N', 'no_of_employees': 2368, 'yr_of_estab': 1998, 'region_of_employment': 'Northeast', 'prevailing_wage': 113799.64, 'unit_of_wage': 'Year', 'full_time_position': 'Y', 'case_status': 'Certified'}\n",
      "55 {'_id': ObjectId('6689529a7451191a3e0b0133'), 'case_id': 'EZYV57', 'continent': 'Europe', 'education_of_employee': \"Bachelor's\", 'has_job_experience': 'Y', 'requires_job_training': 'Y', 'no_of_employees': 779, 'yr_of_estab': 1994, 'region_of_employment': 'West', 'prevailing_wage': 85854.09, 'unit_of_wage': 'Year', 'full_time_position': 'Y', 'case_status': 'Certified'}\n",
      "56 {'_id': ObjectId('6689529a7451191a3e0b0134'), 'case_id': 'EZYV58', 'continent': 'Asia', 'education_of_employee': \"Bachelor's\", 'has_job_experience': 'Y', 'requires_job_training': 'N', 'no_of_employees': 2825, 'yr_of_estab': 1996, 'region_of_employment': 'Northeast', 'prevailing_wage': 14174.04, 'unit_of_wage': 'Year', 'full_time_position': 'Y', 'case_status': 'Certified'}\n",
      "57 {'_id': ObjectId('6689529a7451191a3e0b0135'), 'case_id': 'EZYV59', 'continent': 'Europe', 'education_of_employee': \"Bachelor's\", 'has_job_experience': 'N', 'requires_job_training': 'N', 'no_of_employees': 3510, 'yr_of_estab': 2007, 'region_of_employment': 'West', 'prevailing_wage': 47176.84, 'unit_of_wage': 'Year', 'full_time_position': 'Y', 'case_status': 'Certified'}\n",
      "58 {'_id': ObjectId('6689529a7451191a3e0b0136'), 'case_id': 'EZYV60', 'continent': 'Asia', 'education_of_employee': 'Doctorate', 'has_job_experience': 'N', 'requires_job_training': 'N', 'no_of_employees': 2624, 'yr_of_estab': 2012, 'region_of_employment': 'Midwest', 'prevailing_wage': 4949.28, 'unit_of_wage': 'Year', 'full_time_position': 'Y', 'case_status': 'Certified'}\n",
      "59 {'_id': ObjectId('6689529a7451191a3e0b0137'), 'case_id': 'EZYV61', 'continent': 'Asia', 'education_of_employee': \"Master's\", 'has_job_experience': 'N', 'requires_job_training': 'Y', 'no_of_employees': 5340, 'yr_of_estab': 2010, 'region_of_employment': 'West', 'prevailing_wage': 67410.59, 'unit_of_wage': 'Year', 'full_time_position': 'Y', 'case_status': 'Denied'}\n",
      "60 {'_id': ObjectId('6689529a7451191a3e0b0138'), 'case_id': 'EZYV62', 'continent': 'Europe', 'education_of_employee': 'Doctorate', 'has_job_experience': 'Y', 'requires_job_training': 'Y', 'no_of_employees': 2311, 'yr_of_estab': 1994, 'region_of_employment': 'Midwest', 'prevailing_wage': 58791.58, 'unit_of_wage': 'Year', 'full_time_position': 'Y', 'case_status': 'Certified'}\n",
      "61 {'_id': ObjectId('6689529a7451191a3e0b0139'), 'case_id': 'EZYV63', 'continent': 'Asia', 'education_of_employee': 'High School', 'has_job_experience': 'N', 'requires_job_training': 'N', 'no_of_employees': 5110, 'yr_of_estab': 2004, 'region_of_employment': 'West', 'prevailing_wage': 103.2216, 'unit_of_wage': 'Hour', 'full_time_position': 'Y', 'case_status': 'Denied'}\n",
      "62 {'_id': ObjectId('6689529a7451191a3e0b013a'), 'case_id': 'EZYV64', 'continent': 'Europe', 'education_of_employee': \"Bachelor's\", 'has_job_experience': 'Y', 'requires_job_training': 'N', 'no_of_employees': 1316, 'yr_of_estab': 1995, 'region_of_employment': 'South', 'prevailing_wage': 62591.57, 'unit_of_wage': 'Year', 'full_time_position': 'Y', 'case_status': 'Certified'}\n",
      "63 {'_id': ObjectId('6689529a7451191a3e0b013b'), 'case_id': 'EZYV65', 'continent': 'Asia', 'education_of_employee': \"Master's\", 'has_job_experience': 'N', 'requires_job_training': 'N', 'no_of_employees': 100, 'yr_of_estab': 2001, 'region_of_employment': 'Northeast', 'prevailing_wage': 102919.59, 'unit_of_wage': 'Year', 'full_time_position': 'Y', 'case_status': 'Denied'}\n",
      "64 {'_id': ObjectId('6689529a7451191a3e0b013c'), 'case_id': 'EZYV66', 'continent': 'Asia', 'education_of_employee': \"Master's\", 'has_job_experience': 'Y', 'requires_job_training': 'N', 'no_of_employees': 2021, 'yr_of_estab': 2007, 'region_of_employment': 'Midwest', 'prevailing_wage': 123468.56, 'unit_of_wage': 'Year', 'full_time_position': 'Y', 'case_status': 'Certified'}\n",
      "65 {'_id': ObjectId('6689529a7451191a3e0b013d'), 'case_id': 'EZYV67', 'continent': 'North America', 'education_of_employee': \"Bachelor's\", 'has_job_experience': 'N', 'requires_job_training': 'N', 'no_of_employees': 80, 'yr_of_estab': 1968, 'region_of_employment': 'West', 'prevailing_wage': 82324.64, 'unit_of_wage': 'Year', 'full_time_position': 'N', 'case_status': 'Denied'}\n",
      "66 {'_id': ObjectId('6689529a7451191a3e0b013e'), 'case_id': 'EZYV68', 'continent': 'Europe', 'education_of_employee': 'Doctorate', 'has_job_experience': 'Y', 'requires_job_training': 'N', 'no_of_employees': 2070, 'yr_of_estab': 1847, 'region_of_employment': 'West', 'prevailing_wage': 5319.49, 'unit_of_wage': 'Year', 'full_time_position': 'Y', 'case_status': 'Certified'}\n",
      "67 {'_id': ObjectId('6689529a7451191a3e0b013f'), 'case_id': 'EZYV69', 'continent': 'Asia', 'education_of_employee': \"Bachelor's\", 'has_job_experience': 'Y', 'requires_job_training': 'Y', 'no_of_employees': 2654, 'yr_of_estab': 2013, 'region_of_employment': 'Midwest', 'prevailing_wage': 153019.94, 'unit_of_wage': 'Year', 'full_time_position': 'Y', 'case_status': 'Certified'}\n",
      "68 {'_id': ObjectId('6689529a7451191a3e0b0140'), 'case_id': 'EZYV70', 'continent': 'Asia', 'education_of_employee': \"Master's\", 'has_job_experience': 'Y', 'requires_job_training': 'N', 'no_of_employees': 292, 'yr_of_estab': 2005, 'region_of_employment': 'South', 'prevailing_wage': 38059.89, 'unit_of_wage': 'Year', 'full_time_position': 'Y', 'case_status': 'Certified'}\n",
      "69 {'_id': ObjectId('6689529a7451191a3e0b0141'), 'case_id': 'EZYV71', 'continent': 'Asia', 'education_of_employee': 'High School', 'has_job_experience': 'Y', 'requires_job_training': 'N', 'no_of_employees': 1320, 'yr_of_estab': 2001, 'region_of_employment': 'Northeast', 'prevailing_wage': 230.327, 'unit_of_wage': 'Hour', 'full_time_position': 'Y', 'case_status': 'Denied'}\n",
      "70 {'_id': ObjectId('6689529a7451191a3e0b0142'), 'case_id': 'EZYV72', 'continent': 'Asia', 'education_of_employee': 'High School', 'has_job_experience': 'Y', 'requires_job_training': 'N', 'no_of_employees': 1722, 'yr_of_estab': 2007, 'region_of_employment': 'South', 'prevailing_wage': 61521.92, 'unit_of_wage': 'Year', 'full_time_position': 'Y', 'case_status': 'Certified'}\n",
      "71 {'_id': ObjectId('6689529a7451191a3e0b0143'), 'case_id': 'EZYV73', 'continent': 'Europe', 'education_of_employee': \"Bachelor's\", 'has_job_experience': 'Y', 'requires_job_training': 'N', 'no_of_employees': 3339, 'yr_of_estab': 1935, 'region_of_employment': 'Northeast', 'prevailing_wage': 121316.5, 'unit_of_wage': 'Year', 'full_time_position': 'Y', 'case_status': 'Denied'}\n",
      "72 {'_id': ObjectId('6689529a7451191a3e0b0144'), 'case_id': 'EZYV74', 'continent': 'Asia', 'education_of_employee': \"Master's\", 'has_job_experience': 'Y', 'requires_job_training': 'N', 'no_of_employees': 452, 'yr_of_estab': 1890, 'region_of_employment': 'South', 'prevailing_wage': 122540.55, 'unit_of_wage': 'Year', 'full_time_position': 'Y', 'case_status': 'Certified'}\n",
      "73 {'_id': ObjectId('6689529a7451191a3e0b0145'), 'case_id': 'EZYV75', 'continent': 'Africa', 'education_of_employee': \"Master's\", 'has_job_experience': 'Y', 'requires_job_training': 'N', 'no_of_employees': 3705, 'yr_of_estab': 2001, 'region_of_employment': 'South', 'prevailing_wage': 47170.76, 'unit_of_wage': 'Year', 'full_time_position': 'Y', 'case_status': 'Certified'}\n",
      "74 {'_id': ObjectId('6689529a7451191a3e0b0146'), 'case_id': 'EZYV76', 'continent': 'North America', 'education_of_employee': \"Bachelor's\", 'has_job_experience': 'N', 'requires_job_training': 'N', 'no_of_employees': 85, 'yr_of_estab': 1999, 'region_of_employment': 'Northeast', 'prevailing_wage': 330.3743, 'unit_of_wage': 'Hour', 'full_time_position': 'Y', 'case_status': 'Denied'}\n",
      "75 {'_id': ObjectId('6689529a7451191a3e0b0147'), 'case_id': 'EZYV77', 'continent': 'Europe', 'education_of_employee': \"Bachelor's\", 'has_job_experience': 'Y', 'requires_job_training': 'N', 'no_of_employees': 2423, 'yr_of_estab': 1838, 'region_of_employment': 'West', 'prevailing_wage': 2927.34, 'unit_of_wage': 'Year', 'full_time_position': 'Y', 'case_status': 'Certified'}\n",
      "76 {'_id': ObjectId('6689529a7451191a3e0b0148'), 'case_id': 'EZYV78', 'continent': 'Asia', 'education_of_employee': \"Bachelor's\", 'has_job_experience': 'Y', 'requires_job_training': 'N', 'no_of_employees': 1274, 'yr_of_estab': 1999, 'region_of_employment': 'South', 'prevailing_wage': 107781.48, 'unit_of_wage': 'Year', 'full_time_position': 'Y', 'case_status': 'Certified'}\n",
      "77 {'_id': ObjectId('6689529a7451191a3e0b0149'), 'case_id': 'EZYV79', 'continent': 'North America', 'education_of_employee': \"Master's\", 'has_job_experience': 'N', 'requires_job_training': 'N', 'no_of_employees': 1549, 'yr_of_estab': 2001, 'region_of_employment': 'South', 'prevailing_wage': 590.0203, 'unit_of_wage': 'Hour', 'full_time_position': 'Y', 'case_status': 'Certified'}\n",
      "78 {'_id': ObjectId('6689529a7451191a3e0b014a'), 'case_id': 'EZYV80', 'continent': 'Asia', 'education_of_employee': 'High School', 'has_job_experience': 'N', 'requires_job_training': 'Y', 'no_of_employees': 1062, 'yr_of_estab': 1998, 'region_of_employment': 'West', 'prevailing_wage': 194176.83, 'unit_of_wage': 'Year', 'full_time_position': 'Y', 'case_status': 'Denied'}\n",
      "79 {'_id': ObjectId('6689529a7451191a3e0b014b'), 'case_id': 'EZYV81', 'continent': 'Asia', 'education_of_employee': \"Bachelor's\", 'has_job_experience': 'Y', 'requires_job_training': 'N', 'no_of_employees': 32619, 'yr_of_estab': 1947, 'region_of_employment': 'South', 'prevailing_wage': 102073.81, 'unit_of_wage': 'Year', 'full_time_position': 'Y', 'case_status': 'Certified'}\n",
      "80 {'_id': ObjectId('6689529a7451191a3e0b014c'), 'case_id': 'EZYV82', 'continent': 'Asia', 'education_of_employee': \"Master's\", 'has_job_experience': 'Y', 'requires_job_training': 'N', 'no_of_employees': 4036, 'yr_of_estab': 2001, 'region_of_employment': 'South', 'prevailing_wage': 113882.38, 'unit_of_wage': 'Year', 'full_time_position': 'Y', 'case_status': 'Certified'}\n",
      "81 {'_id': ObjectId('6689529a7451191a3e0b014d'), 'case_id': 'EZYV83', 'continent': 'Asia', 'education_of_employee': 'High School', 'has_job_experience': 'Y', 'requires_job_training': 'N', 'no_of_employees': 39, 'yr_of_estab': 2000, 'region_of_employment': 'West', 'prevailing_wage': 70778.82, 'unit_of_wage': 'Year', 'full_time_position': 'Y', 'case_status': 'Denied'}\n",
      "82 {'_id': ObjectId('6689529a7451191a3e0b014e'), 'case_id': 'EZYV84', 'continent': 'Asia', 'education_of_employee': \"Bachelor's\", 'has_job_experience': 'Y', 'requires_job_training': 'N', 'no_of_employees': 2359, 'yr_of_estab': 2007, 'region_of_employment': 'Northeast', 'prevailing_wage': 84125.48, 'unit_of_wage': 'Year', 'full_time_position': 'Y', 'case_status': 'Certified'}\n",
      "83 {'_id': ObjectId('6689529a7451191a3e0b014f'), 'case_id': 'EZYV85', 'continent': 'Asia', 'education_of_employee': \"Master's\", 'has_job_experience': 'Y', 'requires_job_training': 'Y', 'no_of_employees': 1023, 'yr_of_estab': 2002, 'region_of_employment': 'South', 'prevailing_wage': 174014.59, 'unit_of_wage': 'Year', 'full_time_position': 'Y', 'case_status': 'Certified'}\n",
      "84 {'_id': ObjectId('6689529a7451191a3e0b0150'), 'case_id': 'EZYV86', 'continent': 'Asia', 'education_of_employee': \"Master's\", 'has_job_experience': 'Y', 'requires_job_training': 'N', 'no_of_employees': 2480, 'yr_of_estab': 1981, 'region_of_employment': 'Northeast', 'prevailing_wage': 34213.17, 'unit_of_wage': 'Year', 'full_time_position': 'Y', 'case_status': 'Certified'}\n",
      "85 {'_id': ObjectId('6689529a7451191a3e0b0151'), 'case_id': 'EZYV87', 'continent': 'Asia', 'education_of_employee': 'High School', 'has_job_experience': 'N', 'requires_job_training': 'N', 'no_of_employees': 1255, 'yr_of_estab': 1989, 'region_of_employment': 'Northeast', 'prevailing_wage': 79813.05, 'unit_of_wage': 'Year', 'full_time_position': 'N', 'case_status': 'Denied'}\n",
      "86 {'_id': ObjectId('6689529a7451191a3e0b0152'), 'case_id': 'EZYV88', 'continent': 'Asia', 'education_of_employee': 'High School', 'has_job_experience': 'Y', 'requires_job_training': 'N', 'no_of_employees': 4455, 'yr_of_estab': 1998, 'region_of_employment': 'West', 'prevailing_wage': 113327.34, 'unit_of_wage': 'Year', 'full_time_position': 'Y', 'case_status': 'Denied'}\n",
      "87 {'_id': ObjectId('6689529a7451191a3e0b0153'), 'case_id': 'EZYV89', 'continent': 'Asia', 'education_of_employee': \"Bachelor's\", 'has_job_experience': 'N', 'requires_job_training': 'N', 'no_of_employees': 2543, 'yr_of_estab': 1939, 'region_of_employment': 'Northeast', 'prevailing_wage': 78893.64, 'unit_of_wage': 'Year', 'full_time_position': 'Y', 'case_status': 'Denied'}\n",
      "88 {'_id': ObjectId('6689529a7451191a3e0b0154'), 'case_id': 'EZYV90', 'continent': 'Asia', 'education_of_employee': \"Bachelor's\", 'has_job_experience': 'Y', 'requires_job_training': 'N', 'no_of_employees': 1359, 'yr_of_estab': 2008, 'region_of_employment': 'West', 'prevailing_wage': 140290.16, 'unit_of_wage': 'Year', 'full_time_position': 'Y', 'case_status': 'Certified'}\n",
      "89 {'_id': ObjectId('6689529a7451191a3e0b0155'), 'case_id': 'EZYV91', 'continent': 'Asia', 'education_of_employee': 'High School', 'has_job_experience': 'Y', 'requires_job_training': 'Y', 'no_of_employees': 2324, 'yr_of_estab': 2006, 'region_of_employment': 'Northeast', 'prevailing_wage': 111926.01, 'unit_of_wage': 'Year', 'full_time_position': 'Y', 'case_status': 'Denied'}\n",
      "90 {'_id': ObjectId('6689529a7451191a3e0b0156'), 'case_id': 'EZYV92', 'continent': 'North America', 'education_of_employee': \"Bachelor's\", 'has_job_experience': 'N', 'requires_job_training': 'N', 'no_of_employees': 4103, 'yr_of_estab': 2004, 'region_of_employment': 'Northeast', 'prevailing_wage': 125880.21, 'unit_of_wage': 'Year', 'full_time_position': 'Y', 'case_status': 'Denied'}\n",
      "91 {'_id': ObjectId('6689529a7451191a3e0b0157'), 'case_id': 'EZYV93', 'continent': 'Asia', 'education_of_employee': \"Bachelor's\", 'has_job_experience': 'N', 'requires_job_training': 'N', 'no_of_employees': 3667, 'yr_of_estab': 1970, 'region_of_employment': 'Northeast', 'prevailing_wage': 527.8901, 'unit_of_wage': 'Hour', 'full_time_position': 'Y', 'case_status': 'Denied'}\n",
      "92 {'_id': ObjectId('6689529a7451191a3e0b0158'), 'case_id': 'EZYV94', 'continent': 'Asia', 'education_of_employee': 'High School', 'has_job_experience': 'N', 'requires_job_training': 'N', 'no_of_employees': 488, 'yr_of_estab': 2010, 'region_of_employment': 'Midwest', 'prevailing_wage': 49357.95, 'unit_of_wage': 'Year', 'full_time_position': 'Y', 'case_status': 'Certified'}\n",
      "93 {'_id': ObjectId('6689529a7451191a3e0b0159'), 'case_id': 'EZYV95', 'continent': 'North America', 'education_of_employee': \"Bachelor's\", 'has_job_experience': 'Y', 'requires_job_training': 'N', 'no_of_employees': 2724, 'yr_of_estab': 1998, 'region_of_employment': 'South', 'prevailing_wage': 69335.2, 'unit_of_wage': 'Year', 'full_time_position': 'Y', 'case_status': 'Certified'}\n",
      "94 {'_id': ObjectId('6689529a7451191a3e0b015a'), 'case_id': 'EZYV96', 'continent': 'Asia', 'education_of_employee': \"Master's\", 'has_job_experience': 'N', 'requires_job_training': 'N', 'no_of_employees': 1392, 'yr_of_estab': 2001, 'region_of_employment': 'South', 'prevailing_wage': 99737.18, 'unit_of_wage': 'Year', 'full_time_position': 'N', 'case_status': 'Certified'}\n",
      "95 {'_id': ObjectId('6689529a7451191a3e0b015b'), 'case_id': 'EZYV97', 'continent': 'North America', 'education_of_employee': \"Bachelor's\", 'has_job_experience': 'Y', 'requires_job_training': 'N', 'no_of_employees': 2573, 'yr_of_estab': 1977, 'region_of_employment': 'Northeast', 'prevailing_wage': 91449.62, 'unit_of_wage': 'Year', 'full_time_position': 'Y', 'case_status': 'Denied'}\n",
      "96 {'_id': ObjectId('6689529a7451191a3e0b015c'), 'case_id': 'EZYV98', 'continent': 'North America', 'education_of_employee': \"Bachelor's\", 'has_job_experience': 'Y', 'requires_job_training': 'N', 'no_of_employees': 3524, 'yr_of_estab': 1982, 'region_of_employment': 'Midwest', 'prevailing_wage': 34494.86, 'unit_of_wage': 'Year', 'full_time_position': 'Y', 'case_status': 'Certified'}\n",
      "97 {'_id': ObjectId('6689529a7451191a3e0b015d'), 'case_id': 'EZYV99', 'continent': 'Asia', 'education_of_employee': 'High School', 'has_job_experience': 'N', 'requires_job_training': 'N', 'no_of_employees': 1847, 'yr_of_estab': 1977, 'region_of_employment': 'Northeast', 'prevailing_wage': 395.995, 'unit_of_wage': 'Hour', 'full_time_position': 'Y', 'case_status': 'Denied'}\n",
      "98 {'_id': ObjectId('6689529a7451191a3e0b015e'), 'case_id': 'EZYV100', 'continent': 'Asia', 'education_of_employee': \"Master's\", 'has_job_experience': 'N', 'requires_job_training': 'N', 'no_of_employees': 107535, 'yr_of_estab': 1970, 'region_of_employment': 'West', 'prevailing_wage': 159645.51, 'unit_of_wage': 'Year', 'full_time_position': 'Y', 'case_status': 'Denied'}\n",
      "99 {'_id': ObjectId('6689529a7451191a3e0b015f'), 'case_id': 'EZYV101', 'continent': 'Asia', 'education_of_employee': \"Master's\", 'has_job_experience': 'Y', 'requires_job_training': 'N', 'no_of_employees': 2227, 'yr_of_estab': 2007, 'region_of_employment': 'Northeast', 'prevailing_wage': 28243.79, 'unit_of_wage': 'Year', 'full_time_position': 'Y', 'case_status': 'Certified'}\n"
     ]
    },
    {
     "name": "stderr",
     "output_type": "stream",
     "text": [
      "IOPub data rate exceeded.\n",
      "The Jupyter server will temporarily stop sending output\n",
      "to the client in order to avoid crashing it.\n",
      "To change this limit, set the config variable\n",
      "`--ServerApp.iopub_data_rate_limit`.\n",
      "\n",
      "Current values:\n",
      "ServerApp.iopub_data_rate_limit=1000000.0 (bytes/sec)\n",
      "ServerApp.rate_limit_window=3.0 (secs)\n",
      "\n"
     ]
    }
   ],
   "execution_count": 25
  },
  {
   "metadata": {
    "ExecuteTime": {
     "end_time": "2024-07-06T14:54:57.502348Z",
     "start_time": "2024-07-06T14:54:57.496037Z"
    }
   },
   "cell_type": "code",
   "source": [
    "import os\n",
    "from from_root import from_root\n",
    "from datetime import datetime\n",
    "LOG_FILE = f\"{datetime.now().strftime('%Y_%m_%d_%H_%M_%S')}.log\"\n",
    "\n",
    "LOG_DIR_NAME = 'Project_Logs'\n",
    "LOG_PATH = os.path.join(os.getcwd(), LOG_DIR_NAME, LOG_FILE)"
   ],
   "id": "36488abb901d2d91",
   "outputs": [],
   "execution_count": 2
  },
  {
   "metadata": {
    "ExecuteTime": {
     "end_time": "2024-07-06T14:55:01.690415Z",
     "start_time": "2024-07-06T14:55:01.682101Z"
    }
   },
   "cell_type": "code",
   "source": "LOG_PATH",
   "id": "f29a34e863f4c418",
   "outputs": [
    {
     "data": {
      "text/plain": [
       "'/Users/mohitverma/Documents/Machine Learning Pro/US Visa Prediction Task/Notebook Experiments/Project_Logs/2024_07_06_20_24_57.log'"
      ]
     },
     "execution_count": 3,
     "metadata": {},
     "output_type": "execute_result"
    }
   ],
   "execution_count": 3
  },
  {
   "metadata": {
    "ExecuteTime": {
     "end_time": "2024-07-06T17:01:36.248959Z",
     "start_time": "2024-07-06T17:01:35.862969Z"
    }
   },
   "cell_type": "code",
   "source": [
    "from VisaPrediction.logger import logging\n",
    "from VisaPrediction.exception import VisaException\n",
    "import sys, os\n",
    "\n",
    "try:\n",
    "    3/0\n",
    "except Exception as e:\n",
    "    raise VisaException(e, sys)"
   ],
   "id": "663ddb5e15eea812",
   "outputs": [
    {
     "ename": "VisaException",
     "evalue": "Error occurred while processing file name :/var/folders/91/_20s93vj1sg7xyz4xf0dlsvm0000gn/T/ipykernel_12432/1517420099.py, Line No: 6,\n                        Error :division by zero.",
     "output_type": "error",
     "traceback": [
      "\u001B[0;31m---------------------------------------------------------------------------\u001B[0m",
      "\u001B[0;31mZeroDivisionError\u001B[0m                         Traceback (most recent call last)",
      "Cell \u001B[0;32mIn[1], line 6\u001B[0m\n\u001B[1;32m      5\u001B[0m \u001B[38;5;28;01mtry\u001B[39;00m:\n\u001B[0;32m----> 6\u001B[0m     \u001B[38;5;241;43m3\u001B[39;49m\u001B[38;5;241;43m/\u001B[39;49m\u001B[38;5;241;43m0\u001B[39;49m\n\u001B[1;32m      7\u001B[0m \u001B[38;5;28;01mexcept\u001B[39;00m \u001B[38;5;167;01mException\u001B[39;00m \u001B[38;5;28;01mas\u001B[39;00m e:\n",
      "\u001B[0;31mZeroDivisionError\u001B[0m: division by zero",
      "\nDuring handling of the above exception, another exception occurred:\n",
      "\u001B[0;31mVisaException\u001B[0m                             Traceback (most recent call last)",
      "Cell \u001B[0;32mIn[1], line 8\u001B[0m\n\u001B[1;32m      6\u001B[0m     \u001B[38;5;241m3\u001B[39m\u001B[38;5;241m/\u001B[39m\u001B[38;5;241m0\u001B[39m\n\u001B[1;32m      7\u001B[0m \u001B[38;5;28;01mexcept\u001B[39;00m \u001B[38;5;167;01mException\u001B[39;00m \u001B[38;5;28;01mas\u001B[39;00m e:\n\u001B[0;32m----> 8\u001B[0m     \u001B[38;5;28;01mraise\u001B[39;00m VisaException(e, sys)\n",
      "\u001B[0;31mVisaException\u001B[0m: Error occurred while processing file name :/var/folders/91/_20s93vj1sg7xyz4xf0dlsvm0000gn/T/ipykernel_12432/1517420099.py, Line No: 6,\n                        Error :division by zero."
     ]
    }
   ],
   "execution_count": 1
  },
  {
   "metadata": {
    "ExecuteTime": {
     "end_time": "2024-07-06T16:53:48.664253Z",
     "start_time": "2024-07-06T16:53:48.662432Z"
    }
   },
   "cell_type": "code",
   "source": "",
   "id": "26c447ea68693d00",
   "outputs": [],
   "execution_count": 10
  },
  {
   "metadata": {
    "ExecuteTime": {
     "end_time": "2024-07-06T16:53:48.701604Z",
     "start_time": "2024-07-06T16:53:48.699545Z"
    }
   },
   "cell_type": "code",
   "source": "",
   "id": "bc938c39829ea46a",
   "outputs": [],
   "execution_count": 10
  },
  {
   "metadata": {},
   "cell_type": "code",
   "outputs": [],
   "execution_count": null,
   "source": "",
   "id": "497ecd7004df28f1"
  }
 ],
 "metadata": {
  "kernelspec": {
   "display_name": "Python 3",
   "language": "python",
   "name": "python3"
  },
  "language_info": {
   "codemirror_mode": {
    "name": "ipython",
    "version": 2
   },
   "file_extension": ".py",
   "mimetype": "text/x-python",
   "name": "python",
   "nbconvert_exporter": "python",
   "pygments_lexer": "ipython2",
   "version": "2.7.6"
  }
 },
 "nbformat": 4,
 "nbformat_minor": 5
}
